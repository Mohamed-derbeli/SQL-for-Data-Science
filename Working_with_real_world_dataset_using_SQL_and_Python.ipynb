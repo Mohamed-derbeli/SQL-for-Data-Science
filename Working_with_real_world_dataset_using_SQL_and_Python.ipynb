{
 "cells": [
  {
   "cell_type": "markdown",
   "metadata": {},
   "source": [
    "<center>\n",
    "    <img src=\"https://s3-api.us-geo.objectstorage.softlayer.net/cf-courses-data/CognitiveClass/Logos/organization_logo/organization_logo.png\" width=\"300\" alt=\"cognitiveclass.ai logo\"  />\n",
    "</center>\n",
    "\n",
    "# Working with a real world data-set using SQL and Python\n",
    "\n",
    "Estaimted time needed: **30** minutes\n",
    "\n",
    "## Objectives\n",
    "\n",
    "After complting this lab you will be able to:\n",
    "\n",
    "*   Understand the dataset for Chicago Public School level performance\n",
    "*   Store the dataset in an Db2 database on IBM Cloud instance\n",
    "*   Retrieve metadata about tables and columns and query data from mixed case columns\n",
    "*   Solve example problems to practice your SQL skills including using built-in database functions\n"
   ]
  },
  {
   "cell_type": "markdown",
   "metadata": {},
   "source": [
    "## Chicago Public Schools - Progress Report Cards (2011-2012)\n",
    "\n",
    "The city of Chicago released a dataset showing all school level performance data used to create School Report Cards for the 2011-2012 school year. The dataset is available from the Chicago Data Portal: [https://data.cityofchicago.org/Education/Chicago-Public-Schools-Progress-Report-Cards-2011-/9xs2-f89t](https://data.cityofchicago.org/Education/Chicago-Public-Schools-Progress-Report-Cards-2011-/9xs2-f89t?utm_medium=Exinfluencer&utm_source=Exinfluencer&utm_content=000026UJ&utm_term=10006555&utm_id=NA-SkillsNetwork-Channel-SkillsNetworkCoursesIBMDeveloperSkillsNetworkDB0201ENSkillsNetwork20127838-2021-01-01&cm_mmc=Email_Newsletter-\\_-Developer_Ed%2BTech-\\_-WW_WW-\\_-SkillsNetwork-Courses-IBMDeveloperSkillsNetwork-DB0201EN-SkillsNetwork-20127838&cm_mmca1=000026UJ&cm_mmca2=10006555&cm_mmca3=M12345678&cvosrc=email.Newsletter.M12345678&cvo_campaign=000026UJ)\n",
    "\n",
    "This dataset includes a large number of metrics. Start by familiarizing yourself with the types of metrics in the database: [https://data.cityofchicago.org/api/assets/AAD41A13-BE8A-4E67-B1F5-86E711E09D5F?download=true](https://data.cityofchicago.org/api/assets/AAD41A13-BE8A-4E67-B1F5-86E711E09D5F?utm_medium=Exinfluencer&utm_source=Exinfluencer&utm_content=000026UJ&utm_term=10006555&utm_id=NA-SkillsNetwork-Channel-SkillsNetworkCoursesIBMDeveloperSkillsNetworkDB0201ENSkillsNetwork20127838-2021-01-01&download=true&cm_mmc=Email_Newsletter-\\_-Developer_Ed%2BTech-\\_-WW_WW-\\_-SkillsNetwork-Courses-IBMDeveloperSkillsNetwork-DB0201EN-SkillsNetwork-20127838&cm_mmca1=000026UJ&cm_mmca2=10006555&cm_mmca3=M12345678&cvosrc=email.Newsletter.M12345678&cvo_campaign=000026UJ)\n",
    "\n",
    "**NOTE**:\n",
    "\n",
    "Do not download the dataset directly from City of Chicago portal. Instead download a static copy which is a more database friendly version from this <a href=\"https://cf-courses-data.s3.us.cloud-object-storage.appdomain.cloud/IBMDeveloperSkillsNetwork-DB0201EN-SkillsNetwork/labs/FinalModule_Coursera_V5/data/ChicagoPublicSchools.csv?utm_medium=Exinfluencer&utm_source=Exinfluencer&utm_content=000026UJ&utm_term=10006555&utm_id=NA-SkillsNetwork-Channel-SkillsNetworkCoursesIBMDeveloperSkillsNetworkDB0201ENSkillsNetwork20127838-2021-01-01\">link</a>.\n",
    "\n",
    "Now review some of its contents.\n"
   ]
  },
  {
   "cell_type": "markdown",
   "metadata": {},
   "source": [
    "### Store the dataset in a Table\n",
    "\n",
    "In many cases the dataset to be analyzed is available as a .CSV (comma separated values) file, perhaps on the internet. To analyze the data using SQL, it first needs to be stored in the database.\n",
    "\n",
    "While it is easier to read the dataset into a Pandas dataframe and then PERSIST it into the database as we saw in the previous lab, it results in mapping to default datatypes which may not be optimal for SQL querying. For example a long textual field may map to a CLOB instead of a VARCHAR.\n",
    "\n",
    "Therefore, **it is highly recommended to manually load the table using the database console LOAD tool, as indicated in Week 2 Lab 1 Part II**. The only difference with that lab is that in Step 5 of the instructions you will need to click on create \"(+) New Table\" and specify the name of the table you want to create and then click \"Next\".\n",
    "\n",
    "##### Now open the Db2 console, open the LOAD tool, Select / Drag the .CSV file for the CHICAGO PUBLIC SCHOOLS dataset and load the dataset into a new table called **SCHOOLS**.\n",
    "\n",
    "<a href=\"https://cognitiveclass.ai/?utm_medium=Exinfluencer&utm_source=Exinfluencer&utm_content=000026UJ&utm_term=10006555&utm_id=NA-SkillsNetwork-Channel-SkillsNetworkCoursesIBMDeveloperSkillsNetworkDB0201ENSkillsNetwork20127838-2021-01-01\"><img src = \"https://ibm.box.com/shared/static/uc4xjh1uxcc78ks1i18v668simioz4es.jpg\"></a>\n"
   ]
  },
  {
   "cell_type": "markdown",
   "metadata": {},
   "source": [
    "### Connect to the database\n",
    "\n",
    "Let us now load the ipython-sql  extension and establish a connection with the database\n"
   ]
  },
  {
   "cell_type": "code",
   "execution_count": 265,
   "metadata": {},
   "outputs": [
    {
     "name": "stdout",
     "output_type": "stream",
     "text": [
      "Requirement already satisfied: sqlalchemy==1.3.9 in /home/jupyterlab/conda/envs/python/lib/python3.7/site-packages (1.3.9)\n",
      "Requirement already satisfied: ibm_db_sa==0.3.7 in /home/jupyterlab/conda/envs/python/lib/python3.7/site-packages (0.3.7)\n",
      "Requirement already satisfied: ibm-db>=2.0.0 in /home/jupyterlab/conda/envs/python/lib/python3.7/site-packages (from ibm_db_sa==0.3.7) (3.1.0)\n",
      "Requirement already satisfied: sqlalchemy>=0.7.3 in /home/jupyterlab/conda/envs/python/lib/python3.7/site-packages (from ibm_db_sa==0.3.7) (1.3.9)\n"
     ]
    }
   ],
   "source": [
    "!pip install sqlalchemy==1.3.9\n",
    "!pip install ibm_db_sa==0.3.7"
   ]
  },
  {
   "cell_type": "code",
   "execution_count": 266,
   "metadata": {},
   "outputs": [
    {
     "name": "stdout",
     "output_type": "stream",
     "text": [
      "The sql extension is already loaded. To reload it, use:\n",
      "  %reload_ext sql\n"
     ]
    }
   ],
   "source": [
    "%load_ext sql"
   ]
  },
  {
   "cell_type": "code",
   "execution_count": 267,
   "metadata": {},
   "outputs": [
    {
     "data": {
      "text/plain": [
       "'Connected: wzw37676@bludb'"
      ]
     },
     "execution_count": 267,
     "metadata": {},
     "output_type": "execute_result"
    }
   ],
   "source": [
    "# Enter the connection string for your Db2 on Cloud database instance below\n",
    "# %sql ibm_db_sa://my-username:my-password@my-hostname:my-port/my-db-name?security=SSL\n",
    "%sql ibm_db_sa://wzw37676:QGqsbUMJepOx1kIX@55fbc997-9266-4331-afd3-888b05e734c0.bs2io90l08kqb1od8lcg.databases.appdomain.cloud:31929/bludb?security=ssl"
   ]
  },
  {
   "cell_type": "markdown",
   "metadata": {},
   "source": [
    "### Query the database system catalog to retrieve table metadata\n",
    "\n",
    "##### You can verify that the table creation was successful by retrieving the list of all tables in your schema and checking whether the SCHOOLS table was created\n"
   ]
  },
  {
   "cell_type": "code",
   "execution_count": 268,
   "metadata": {},
   "outputs": [
    {
     "name": "stdout",
     "output_type": "stream",
     "text": [
      " * ibm_db_sa://wzw37676:***@55fbc997-9266-4331-afd3-888b05e734c0.bs2io90l08kqb1od8lcg.databases.appdomain.cloud:31929/bludb\n",
      "Done.\n"
     ]
    },
    {
     "data": {
      "text/html": [
       "<table>\n",
       "    <thead>\n",
       "        <tr>\n",
       "            <th>tabschema</th>\n",
       "            <th>tabname</th>\n",
       "            <th>create_time</th>\n",
       "        </tr>\n",
       "    </thead>\n",
       "    <tbody>\n",
       "        <tr>\n",
       "            <td>WZW37676</td>\n",
       "            <td>CHICAGO_SOCIOECONOMIC_DATA</td>\n",
       "            <td>2021-12-09 21:09:16.099730</td>\n",
       "        </tr>\n",
       "        <tr>\n",
       "            <td>WZW37676</td>\n",
       "            <td>PETSALE</td>\n",
       "            <td>2021-11-29 23:24:59.704336</td>\n",
       "        </tr>\n",
       "        <tr>\n",
       "            <td>WZW37676</td>\n",
       "            <td>PET</td>\n",
       "            <td>2021-11-29 23:24:59.784088</td>\n",
       "        </tr>\n",
       "        <tr>\n",
       "            <td>WZW37676</td>\n",
       "            <td>SCHOOLS</td>\n",
       "            <td>2021-12-10 16:39:53.866853</td>\n",
       "        </tr>\n",
       "        <tr>\n",
       "            <td>WZW37676</td>\n",
       "            <td>EMPLOYEES</td>\n",
       "            <td>2021-12-05 14:11:35.376800</td>\n",
       "        </tr>\n",
       "        <tr>\n",
       "            <td>WZW37676</td>\n",
       "            <td>JOB_HISTORY</td>\n",
       "            <td>2021-12-05 14:11:35.472064</td>\n",
       "        </tr>\n",
       "        <tr>\n",
       "            <td>WZW37676</td>\n",
       "            <td>JOBS</td>\n",
       "            <td>2021-12-05 14:11:35.568400</td>\n",
       "        </tr>\n",
       "        <tr>\n",
       "            <td>WZW37676</td>\n",
       "            <td>DEPARTMENTS</td>\n",
       "            <td>2021-12-05 14:11:35.666888</td>\n",
       "        </tr>\n",
       "        <tr>\n",
       "            <td>WZW37676</td>\n",
       "            <td>LOCATIONS</td>\n",
       "            <td>2021-12-05 14:11:35.768293</td>\n",
       "        </tr>\n",
       "        <tr>\n",
       "            <td>WZW37676</td>\n",
       "            <td>PETRESCUE</td>\n",
       "            <td>2021-12-06 16:09:57.772097</td>\n",
       "        </tr>\n",
       "        <tr>\n",
       "            <td>WZW37676</td>\n",
       "            <td>INSTRUCTOR</td>\n",
       "            <td>2021-12-09 01:24:09.249299</td>\n",
       "        </tr>\n",
       "        <tr>\n",
       "            <td>WZW37676</td>\n",
       "            <td>INTERNATIONAL_STUDENT_TEST_SCORES</td>\n",
       "            <td>2021-12-09 15:43:37.006114</td>\n",
       "        </tr>\n",
       "    </tbody>\n",
       "</table>"
      ],
      "text/plain": [
       "[('WZW37676', 'CHICAGO_SOCIOECONOMIC_DATA', datetime.datetime(2021, 12, 9, 21, 9, 16, 99730)),\n",
       " ('WZW37676', 'PETSALE', datetime.datetime(2021, 11, 29, 23, 24, 59, 704336)),\n",
       " ('WZW37676', 'PET', datetime.datetime(2021, 11, 29, 23, 24, 59, 784088)),\n",
       " ('WZW37676', 'SCHOOLS', datetime.datetime(2021, 12, 10, 16, 39, 53, 866853)),\n",
       " ('WZW37676', 'EMPLOYEES', datetime.datetime(2021, 12, 5, 14, 11, 35, 376800)),\n",
       " ('WZW37676', 'JOB_HISTORY', datetime.datetime(2021, 12, 5, 14, 11, 35, 472064)),\n",
       " ('WZW37676', 'JOBS', datetime.datetime(2021, 12, 5, 14, 11, 35, 568400)),\n",
       " ('WZW37676', 'DEPARTMENTS', datetime.datetime(2021, 12, 5, 14, 11, 35, 666888)),\n",
       " ('WZW37676', 'LOCATIONS', datetime.datetime(2021, 12, 5, 14, 11, 35, 768293)),\n",
       " ('WZW37676', 'PETRESCUE', datetime.datetime(2021, 12, 6, 16, 9, 57, 772097)),\n",
       " ('WZW37676', 'INSTRUCTOR', datetime.datetime(2021, 12, 9, 1, 24, 9, 249299)),\n",
       " ('WZW37676', 'INTERNATIONAL_STUDENT_TEST_SCORES', datetime.datetime(2021, 12, 9, 15, 43, 37, 6114))]"
      ]
     },
     "execution_count": 268,
     "metadata": {},
     "output_type": "execute_result"
    }
   ],
   "source": [
    "# type in your query to retrieve list of all tables in the database for your db2 schema (username)\n",
    "%sql select tabschema, tabname, create_time from syscat.tables where tabschema='WZW37676'\n",
    "\n",
    "# query for a specifc table that you want to verify exists in the database\n",
    "#%sql select * from syscat.tables where tabname = 'SCHOOLS'"
   ]
  },
  {
   "cell_type": "markdown",
   "metadata": {
    "tags": []
   },
   "source": [
    "Double-click **here** for a hint\n",
    "\n",
    "<!--\n",
    "In Db2 the system catalog table called SYSCAT.TABLES contains the table metadata\n",
    "-->\n"
   ]
  },
  {
   "cell_type": "markdown",
   "metadata": {
    "tags": []
   },
   "source": [
    "Double-click **here** for the solution.\n",
    "\n",
    "<!-- Solution:\n",
    "\n",
    "%sql select TABSCHEMA, TABNAME, CREATE_TIME from SYSCAT.TABLES where TABSCHEMA='YOUR-DB2-USERNAME'\n",
    "\n",
    "or, you can retrieve list of all tables where the schema name is not one of the system created ones:\n",
    "\n",
    "%sql select TABSCHEMA, TABNAME, CREATE_TIME from SYSCAT.TABLES \\\n",
    "      where TABSCHEMA not in ('SYSIBM', 'SYSCAT', 'SYSSTAT', 'SYSIBMADM', 'SYSTOOLS', 'SYSPUBLIC')\n",
    "      \n",
    "or, just query for a specifc table that you want to verify exists in the database\n",
    "%sql select * from SYSCAT.TABLES where TABNAME = 'SCHOOLS'\n",
    "\n",
    "-->\n"
   ]
  },
  {
   "cell_type": "markdown",
   "metadata": {
    "tags": []
   },
   "source": [
    "### Query the database system catalog to retrieve column metadata\n",
    "\n",
    "##### The SCHOOLS table contains a large number of columns. How many columns does this table have?\n"
   ]
  },
  {
   "cell_type": "code",
   "execution_count": 269,
   "metadata": {},
   "outputs": [
    {
     "name": "stdout",
     "output_type": "stream",
     "text": [
      " * ibm_db_sa://wzw37676:***@55fbc997-9266-4331-afd3-888b05e734c0.bs2io90l08kqb1od8lcg.databases.appdomain.cloud:31929/bludb\n",
      "Done.\n"
     ]
    },
    {
     "data": {
      "text/html": [
       "<table>\n",
       "    <thead>\n",
       "        <tr>\n",
       "            <th>1</th>\n",
       "        </tr>\n",
       "    </thead>\n",
       "    <tbody>\n",
       "        <tr>\n",
       "            <td>78</td>\n",
       "        </tr>\n",
       "    </tbody>\n",
       "</table>"
      ],
      "text/plain": [
       "[(78,)]"
      ]
     },
     "execution_count": 269,
     "metadata": {},
     "output_type": "execute_result"
    }
   ],
   "source": [
    "# type in your query to retrieve the number of columns in the SCHOOLS table\n",
    "%sql select count(*) from syscat.columns where tabname='SCHOOLS'"
   ]
  },
  {
   "cell_type": "markdown",
   "metadata": {},
   "source": [
    "Now retrieve the the list of columns in SCHOOLS table and their column type (datatype) and length.\n"
   ]
  },
  {
   "cell_type": "code",
   "execution_count": 270,
   "metadata": {},
   "outputs": [
    {
     "name": "stdout",
     "output_type": "stream",
     "text": [
      " * ibm_db_sa://wzw37676:***@55fbc997-9266-4331-afd3-888b05e734c0.bs2io90l08kqb1od8lcg.databases.appdomain.cloud:31929/bludb\n",
      "Done.\n"
     ]
    },
    {
     "data": {
      "text/html": [
       "<table>\n",
       "    <thead>\n",
       "        <tr>\n",
       "            <th>name</th>\n",
       "            <th>coltype</th>\n",
       "            <th>length</th>\n",
       "        </tr>\n",
       "    </thead>\n",
       "    <tbody>\n",
       "        <tr>\n",
       "            <td>10th Grade PLAN (2009)</td>\n",
       "            <td>VARCHAR </td>\n",
       "            <td>4</td>\n",
       "        </tr>\n",
       "        <tr>\n",
       "            <td>10th Grade PLAN (2010)</td>\n",
       "            <td>VARCHAR </td>\n",
       "            <td>4</td>\n",
       "        </tr>\n",
       "        <tr>\n",
       "            <td>11th Grade Average ACT (2011)</td>\n",
       "            <td>VARCHAR </td>\n",
       "            <td>4</td>\n",
       "        </tr>\n",
       "        <tr>\n",
       "            <td>9th Grade EXPLORE (2009)</td>\n",
       "            <td>VARCHAR </td>\n",
       "            <td>4</td>\n",
       "        </tr>\n",
       "        <tr>\n",
       "            <td>9th Grade EXPLORE (2010)</td>\n",
       "            <td>VARCHAR </td>\n",
       "            <td>4</td>\n",
       "        </tr>\n",
       "        <tr>\n",
       "            <td>ADEQUATE_YEARLY_PROGRESS_MADE_</td>\n",
       "            <td>VARCHAR </td>\n",
       "            <td>3</td>\n",
       "        </tr>\n",
       "        <tr>\n",
       "            <td>AVERAGE_STUDENT_ATTENDANCE</td>\n",
       "            <td>VARCHAR </td>\n",
       "            <td>6</td>\n",
       "        </tr>\n",
       "        <tr>\n",
       "            <td>AVERAGE_TEACHER_ATTENDANCE</td>\n",
       "            <td>VARCHAR </td>\n",
       "            <td>6</td>\n",
       "        </tr>\n",
       "        <tr>\n",
       "            <td>CITY</td>\n",
       "            <td>VARCHAR </td>\n",
       "            <td>7</td>\n",
       "        </tr>\n",
       "        <tr>\n",
       "            <td>COLLABORATIVE_NAME</td>\n",
       "            <td>VARCHAR </td>\n",
       "            <td>34</td>\n",
       "        </tr>\n",
       "        <tr>\n",
       "            <td>COLLEGE_ELIGIBILITY__</td>\n",
       "            <td>VARCHAR </td>\n",
       "            <td>4</td>\n",
       "        </tr>\n",
       "        <tr>\n",
       "            <td>COLLEGE_ENROLLMENT</td>\n",
       "            <td>SMALLINT</td>\n",
       "            <td>2</td>\n",
       "        </tr>\n",
       "        <tr>\n",
       "            <td>COLLEGE_ENROLLMENT_RATE__</td>\n",
       "            <td>VARCHAR </td>\n",
       "            <td>4</td>\n",
       "        </tr>\n",
       "        <tr>\n",
       "            <td>COMMUNITY_AREA_NAME</td>\n",
       "            <td>VARCHAR </td>\n",
       "            <td>22</td>\n",
       "        </tr>\n",
       "        <tr>\n",
       "            <td>COMMUNITY_AREA_NUMBER</td>\n",
       "            <td>SMALLINT</td>\n",
       "            <td>2</td>\n",
       "        </tr>\n",
       "        <tr>\n",
       "            <td>CPS_PERFORMANCE_POLICY_LEVEL</td>\n",
       "            <td>VARCHAR </td>\n",
       "            <td>15</td>\n",
       "        </tr>\n",
       "        <tr>\n",
       "            <td>CPS_PERFORMANCE_POLICY_STATUS</td>\n",
       "            <td>VARCHAR </td>\n",
       "            <td>16</td>\n",
       "        </tr>\n",
       "        <tr>\n",
       "            <td>ENVIRONMENT_ICON</td>\n",
       "            <td>VARCHAR </td>\n",
       "            <td>11</td>\n",
       "        </tr>\n",
       "        <tr>\n",
       "            <td>ENVIRONMENT_SCORE</td>\n",
       "            <td>SMALLINT</td>\n",
       "            <td>2</td>\n",
       "        </tr>\n",
       "        <tr>\n",
       "            <td>Elementary, Middle, or High School</td>\n",
       "            <td>VARCHAR </td>\n",
       "            <td>2</td>\n",
       "        </tr>\n",
       "        <tr>\n",
       "            <td>FAMILY_INVOLVEMENT_ICON</td>\n",
       "            <td>VARCHAR </td>\n",
       "            <td>11</td>\n",
       "        </tr>\n",
       "        <tr>\n",
       "            <td>FAMILY_INVOLVEMENT_SCORE</td>\n",
       "            <td>VARCHAR </td>\n",
       "            <td>3</td>\n",
       "        </tr>\n",
       "        <tr>\n",
       "            <td>FRESHMAN_ON_TRACK_RATE__</td>\n",
       "            <td>VARCHAR </td>\n",
       "            <td>4</td>\n",
       "        </tr>\n",
       "        <tr>\n",
       "            <td>GENERAL_SERVICES_ROUTE</td>\n",
       "            <td>SMALLINT</td>\n",
       "            <td>2</td>\n",
       "        </tr>\n",
       "        <tr>\n",
       "            <td>GR3_5_GRADE_LEVEL_MATH__</td>\n",
       "            <td>VARCHAR </td>\n",
       "            <td>4</td>\n",
       "        </tr>\n",
       "        <tr>\n",
       "            <td>GR3_5_GRADE_LEVEL_READ__</td>\n",
       "            <td>VARCHAR </td>\n",
       "            <td>4</td>\n",
       "        </tr>\n",
       "        <tr>\n",
       "            <td>GR3_5_KEEP_PACE_MATH__</td>\n",
       "            <td>VARCHAR </td>\n",
       "            <td>4</td>\n",
       "        </tr>\n",
       "        <tr>\n",
       "            <td>GR3_5_KEEP_PACE_READ__</td>\n",
       "            <td>VARCHAR </td>\n",
       "            <td>4</td>\n",
       "        </tr>\n",
       "        <tr>\n",
       "            <td>GR6_8_GRADE_LEVEL_MATH__</td>\n",
       "            <td>VARCHAR </td>\n",
       "            <td>4</td>\n",
       "        </tr>\n",
       "        <tr>\n",
       "            <td>GR6_8_GRADE_LEVEL_READ__</td>\n",
       "            <td>VARCHAR </td>\n",
       "            <td>4</td>\n",
       "        </tr>\n",
       "        <tr>\n",
       "            <td>GR6_8_KEEP_PACE_MATH_</td>\n",
       "            <td>VARCHAR </td>\n",
       "            <td>4</td>\n",
       "        </tr>\n",
       "        <tr>\n",
       "            <td>GR6_8_KEEP_PACE_READ__</td>\n",
       "            <td>VARCHAR </td>\n",
       "            <td>4</td>\n",
       "        </tr>\n",
       "        <tr>\n",
       "            <td>GRADUATION_RATE__</td>\n",
       "            <td>VARCHAR </td>\n",
       "            <td>4</td>\n",
       "        </tr>\n",
       "        <tr>\n",
       "            <td>GR_8_EXPLORE_MATH__</td>\n",
       "            <td>VARCHAR </td>\n",
       "            <td>4</td>\n",
       "        </tr>\n",
       "        <tr>\n",
       "            <td>GR_8_EXPLORE_READ__</td>\n",
       "            <td>VARCHAR </td>\n",
       "            <td>4</td>\n",
       "        </tr>\n",
       "        <tr>\n",
       "            <td>HEALTHY_SCHOOL_CERTIFIED</td>\n",
       "            <td>VARCHAR </td>\n",
       "            <td>3</td>\n",
       "        </tr>\n",
       "        <tr>\n",
       "            <td>INDIVIDUALIZED_EDUCATION_PROGRAM_COMPLIANCE_RATE</td>\n",
       "            <td>VARCHAR </td>\n",
       "            <td>7</td>\n",
       "        </tr>\n",
       "        <tr>\n",
       "            <td>INSTRUCTION_ICON</td>\n",
       "            <td>VARCHAR </td>\n",
       "            <td>11</td>\n",
       "        </tr>\n",
       "        <tr>\n",
       "            <td>INSTRUCTION_SCORE</td>\n",
       "            <td>SMALLINT</td>\n",
       "            <td>2</td>\n",
       "        </tr>\n",
       "        <tr>\n",
       "            <td>ISAT_EXCEEDING_MATH__</td>\n",
       "            <td>DECIMAL </td>\n",
       "            <td>4</td>\n",
       "        </tr>\n",
       "        <tr>\n",
       "            <td>ISAT_EXCEEDING_READING__</td>\n",
       "            <td>DECIMAL </td>\n",
       "            <td>4</td>\n",
       "        </tr>\n",
       "        <tr>\n",
       "            <td>ISAT_VALUE_ADD_COLOR_MATH</td>\n",
       "            <td>VARCHAR </td>\n",
       "            <td>6</td>\n",
       "        </tr>\n",
       "        <tr>\n",
       "            <td>ISAT_VALUE_ADD_COLOR_READ</td>\n",
       "            <td>VARCHAR </td>\n",
       "            <td>6</td>\n",
       "        </tr>\n",
       "        <tr>\n",
       "            <td>ISAT_VALUE_ADD_MATH</td>\n",
       "            <td>DECIMAL </td>\n",
       "            <td>3</td>\n",
       "        </tr>\n",
       "        <tr>\n",
       "            <td>ISAT_VALUE_ADD_READ</td>\n",
       "            <td>DECIMAL </td>\n",
       "            <td>3</td>\n",
       "        </tr>\n",
       "        <tr>\n",
       "            <td>LATITUDE</td>\n",
       "            <td>DECIMAL </td>\n",
       "            <td>18</td>\n",
       "        </tr>\n",
       "        <tr>\n",
       "            <td>LEADERS_ICON</td>\n",
       "            <td>VARCHAR </td>\n",
       "            <td>4</td>\n",
       "        </tr>\n",
       "        <tr>\n",
       "            <td>LEADERS_SCORE</td>\n",
       "            <td>VARCHAR </td>\n",
       "            <td>3</td>\n",
       "        </tr>\n",
       "        <tr>\n",
       "            <td>LINK</td>\n",
       "            <td>VARCHAR </td>\n",
       "            <td>78</td>\n",
       "        </tr>\n",
       "        <tr>\n",
       "            <td>LOCATION</td>\n",
       "            <td>VARCHAR </td>\n",
       "            <td>27</td>\n",
       "        </tr>\n",
       "        <tr>\n",
       "            <td>LONGITUDE</td>\n",
       "            <td>DECIMAL </td>\n",
       "            <td>18</td>\n",
       "        </tr>\n",
       "        <tr>\n",
       "            <td>NAME_OF_SCHOOL</td>\n",
       "            <td>VARCHAR </td>\n",
       "            <td>64</td>\n",
       "        </tr>\n",
       "        <tr>\n",
       "            <td>NETWORK_MANAGER</td>\n",
       "            <td>VARCHAR </td>\n",
       "            <td>40</td>\n",
       "        </tr>\n",
       "        <tr>\n",
       "            <td>NET_CHANGE_EXPLORE_AND_PLAN</td>\n",
       "            <td>VARCHAR </td>\n",
       "            <td>3</td>\n",
       "        </tr>\n",
       "        <tr>\n",
       "            <td>NET_CHANGE_PLAN_AND_ACT</td>\n",
       "            <td>VARCHAR </td>\n",
       "            <td>3</td>\n",
       "        </tr>\n",
       "        <tr>\n",
       "            <td>PARENT_ENGAGEMENT_ICON</td>\n",
       "            <td>VARCHAR </td>\n",
       "            <td>7</td>\n",
       "        </tr>\n",
       "        <tr>\n",
       "            <td>PARENT_ENGAGEMENT_SCORE</td>\n",
       "            <td>VARCHAR </td>\n",
       "            <td>3</td>\n",
       "        </tr>\n",
       "        <tr>\n",
       "            <td>PARENT_ENVIRONMENT_ICON</td>\n",
       "            <td>VARCHAR </td>\n",
       "            <td>7</td>\n",
       "        </tr>\n",
       "        <tr>\n",
       "            <td>PARENT_ENVIRONMENT_SCORE</td>\n",
       "            <td>VARCHAR </td>\n",
       "            <td>3</td>\n",
       "        </tr>\n",
       "        <tr>\n",
       "            <td>PHONE_NUMBER</td>\n",
       "            <td>VARCHAR </td>\n",
       "            <td>14</td>\n",
       "        </tr>\n",
       "        <tr>\n",
       "            <td>PK_2_LITERACY__</td>\n",
       "            <td>VARCHAR </td>\n",
       "            <td>4</td>\n",
       "        </tr>\n",
       "        <tr>\n",
       "            <td>PK_2_MATH__</td>\n",
       "            <td>VARCHAR </td>\n",
       "            <td>4</td>\n",
       "        </tr>\n",
       "        <tr>\n",
       "            <td>POLICE_DISTRICT</td>\n",
       "            <td>SMALLINT</td>\n",
       "            <td>2</td>\n",
       "        </tr>\n",
       "        <tr>\n",
       "            <td>RATE_OF_MISCONDUCTS__PER_100_STUDENTS_</td>\n",
       "            <td>DECIMAL </td>\n",
       "            <td>5</td>\n",
       "        </tr>\n",
       "        <tr>\n",
       "            <td>SAFETY_ICON</td>\n",
       "            <td>VARCHAR </td>\n",
       "            <td>11</td>\n",
       "        </tr>\n",
       "        <tr>\n",
       "            <td>SAFETY_SCORE</td>\n",
       "            <td>SMALLINT</td>\n",
       "            <td>2</td>\n",
       "        </tr>\n",
       "        <tr>\n",
       "            <td>SCHOOL_ID</td>\n",
       "            <td>INTEGER </td>\n",
       "            <td>4</td>\n",
       "        </tr>\n",
       "        <tr>\n",
       "            <td>STATE</td>\n",
       "            <td>VARCHAR </td>\n",
       "            <td>2</td>\n",
       "        </tr>\n",
       "        <tr>\n",
       "            <td>STREET_ADDRESS</td>\n",
       "            <td>VARCHAR </td>\n",
       "            <td>29</td>\n",
       "        </tr>\n",
       "        <tr>\n",
       "            <td>STUDENTS_PASSING__ALGEBRA__</td>\n",
       "            <td>VARCHAR </td>\n",
       "            <td>4</td>\n",
       "        </tr>\n",
       "        <tr>\n",
       "            <td>STUDENTS_TAKING__ALGEBRA__</td>\n",
       "            <td>VARCHAR </td>\n",
       "            <td>4</td>\n",
       "        </tr>\n",
       "        <tr>\n",
       "            <td>TEACHERS_ICON</td>\n",
       "            <td>VARCHAR </td>\n",
       "            <td>11</td>\n",
       "        </tr>\n",
       "        <tr>\n",
       "            <td>TEACHERS_SCORE</td>\n",
       "            <td>VARCHAR </td>\n",
       "            <td>3</td>\n",
       "        </tr>\n",
       "        <tr>\n",
       "            <td>TRACK_SCHEDULE</td>\n",
       "            <td>VARCHAR </td>\n",
       "            <td>12</td>\n",
       "        </tr>\n",
       "        <tr>\n",
       "            <td>WARD</td>\n",
       "            <td>SMALLINT</td>\n",
       "            <td>2</td>\n",
       "        </tr>\n",
       "        <tr>\n",
       "            <td>X_COORDINATE</td>\n",
       "            <td>DECIMAL </td>\n",
       "            <td>13</td>\n",
       "        </tr>\n",
       "        <tr>\n",
       "            <td>Y_COORDINATE</td>\n",
       "            <td>DECIMAL </td>\n",
       "            <td>13</td>\n",
       "        </tr>\n",
       "        <tr>\n",
       "            <td>ZIP_CODE</td>\n",
       "            <td>INTEGER </td>\n",
       "            <td>4</td>\n",
       "        </tr>\n",
       "    </tbody>\n",
       "</table>"
      ],
      "text/plain": [
       "[('10th Grade PLAN (2009)', 'VARCHAR ', 4),\n",
       " ('10th Grade PLAN (2010)', 'VARCHAR ', 4),\n",
       " ('11th Grade Average ACT (2011)', 'VARCHAR ', 4),\n",
       " ('9th Grade EXPLORE (2009)', 'VARCHAR ', 4),\n",
       " ('9th Grade EXPLORE (2010)', 'VARCHAR ', 4),\n",
       " ('ADEQUATE_YEARLY_PROGRESS_MADE_', 'VARCHAR ', 3),\n",
       " ('AVERAGE_STUDENT_ATTENDANCE', 'VARCHAR ', 6),\n",
       " ('AVERAGE_TEACHER_ATTENDANCE', 'VARCHAR ', 6),\n",
       " ('CITY', 'VARCHAR ', 7),\n",
       " ('COLLABORATIVE_NAME', 'VARCHAR ', 34),\n",
       " ('COLLEGE_ELIGIBILITY__', 'VARCHAR ', 4),\n",
       " ('COLLEGE_ENROLLMENT', 'SMALLINT', 2),\n",
       " ('COLLEGE_ENROLLMENT_RATE__', 'VARCHAR ', 4),\n",
       " ('COMMUNITY_AREA_NAME', 'VARCHAR ', 22),\n",
       " ('COMMUNITY_AREA_NUMBER', 'SMALLINT', 2),\n",
       " ('CPS_PERFORMANCE_POLICY_LEVEL', 'VARCHAR ', 15),\n",
       " ('CPS_PERFORMANCE_POLICY_STATUS', 'VARCHAR ', 16),\n",
       " ('ENVIRONMENT_ICON', 'VARCHAR ', 11),\n",
       " ('ENVIRONMENT_SCORE', 'SMALLINT', 2),\n",
       " ('Elementary, Middle, or High School', 'VARCHAR ', 2),\n",
       " ('FAMILY_INVOLVEMENT_ICON', 'VARCHAR ', 11),\n",
       " ('FAMILY_INVOLVEMENT_SCORE', 'VARCHAR ', 3),\n",
       " ('FRESHMAN_ON_TRACK_RATE__', 'VARCHAR ', 4),\n",
       " ('GENERAL_SERVICES_ROUTE', 'SMALLINT', 2),\n",
       " ('GR3_5_GRADE_LEVEL_MATH__', 'VARCHAR ', 4),\n",
       " ('GR3_5_GRADE_LEVEL_READ__', 'VARCHAR ', 4),\n",
       " ('GR3_5_KEEP_PACE_MATH__', 'VARCHAR ', 4),\n",
       " ('GR3_5_KEEP_PACE_READ__', 'VARCHAR ', 4),\n",
       " ('GR6_8_GRADE_LEVEL_MATH__', 'VARCHAR ', 4),\n",
       " ('GR6_8_GRADE_LEVEL_READ__', 'VARCHAR ', 4),\n",
       " ('GR6_8_KEEP_PACE_MATH_', 'VARCHAR ', 4),\n",
       " ('GR6_8_KEEP_PACE_READ__', 'VARCHAR ', 4),\n",
       " ('GRADUATION_RATE__', 'VARCHAR ', 4),\n",
       " ('GR_8_EXPLORE_MATH__', 'VARCHAR ', 4),\n",
       " ('GR_8_EXPLORE_READ__', 'VARCHAR ', 4),\n",
       " ('HEALTHY_SCHOOL_CERTIFIED', 'VARCHAR ', 3),\n",
       " ('INDIVIDUALIZED_EDUCATION_PROGRAM_COMPLIANCE_RATE', 'VARCHAR ', 7),\n",
       " ('INSTRUCTION_ICON', 'VARCHAR ', 11),\n",
       " ('INSTRUCTION_SCORE', 'SMALLINT', 2),\n",
       " ('ISAT_EXCEEDING_MATH__', 'DECIMAL ', 4),\n",
       " ('ISAT_EXCEEDING_READING__', 'DECIMAL ', 4),\n",
       " ('ISAT_VALUE_ADD_COLOR_MATH', 'VARCHAR ', 6),\n",
       " ('ISAT_VALUE_ADD_COLOR_READ', 'VARCHAR ', 6),\n",
       " ('ISAT_VALUE_ADD_MATH', 'DECIMAL ', 3),\n",
       " ('ISAT_VALUE_ADD_READ', 'DECIMAL ', 3),\n",
       " ('LATITUDE', 'DECIMAL ', 18),\n",
       " ('LEADERS_ICON', 'VARCHAR ', 4),\n",
       " ('LEADERS_SCORE', 'VARCHAR ', 3),\n",
       " ('LINK', 'VARCHAR ', 78),\n",
       " ('LOCATION', 'VARCHAR ', 27),\n",
       " ('LONGITUDE', 'DECIMAL ', 18),\n",
       " ('NAME_OF_SCHOOL', 'VARCHAR ', 64),\n",
       " ('NETWORK_MANAGER', 'VARCHAR ', 40),\n",
       " ('NET_CHANGE_EXPLORE_AND_PLAN', 'VARCHAR ', 3),\n",
       " ('NET_CHANGE_PLAN_AND_ACT', 'VARCHAR ', 3),\n",
       " ('PARENT_ENGAGEMENT_ICON', 'VARCHAR ', 7),\n",
       " ('PARENT_ENGAGEMENT_SCORE', 'VARCHAR ', 3),\n",
       " ('PARENT_ENVIRONMENT_ICON', 'VARCHAR ', 7),\n",
       " ('PARENT_ENVIRONMENT_SCORE', 'VARCHAR ', 3),\n",
       " ('PHONE_NUMBER', 'VARCHAR ', 14),\n",
       " ('PK_2_LITERACY__', 'VARCHAR ', 4),\n",
       " ('PK_2_MATH__', 'VARCHAR ', 4),\n",
       " ('POLICE_DISTRICT', 'SMALLINT', 2),\n",
       " ('RATE_OF_MISCONDUCTS__PER_100_STUDENTS_', 'DECIMAL ', 5),\n",
       " ('SAFETY_ICON', 'VARCHAR ', 11),\n",
       " ('SAFETY_SCORE', 'SMALLINT', 2),\n",
       " ('SCHOOL_ID', 'INTEGER ', 4),\n",
       " ('STATE', 'VARCHAR ', 2),\n",
       " ('STREET_ADDRESS', 'VARCHAR ', 29),\n",
       " ('STUDENTS_PASSING__ALGEBRA__', 'VARCHAR ', 4),\n",
       " ('STUDENTS_TAKING__ALGEBRA__', 'VARCHAR ', 4),\n",
       " ('TEACHERS_ICON', 'VARCHAR ', 11),\n",
       " ('TEACHERS_SCORE', 'VARCHAR ', 3),\n",
       " ('TRACK_SCHEDULE', 'VARCHAR ', 12),\n",
       " ('WARD', 'SMALLINT', 2),\n",
       " ('X_COORDINATE', 'DECIMAL ', 13),\n",
       " ('Y_COORDINATE', 'DECIMAL ', 13),\n",
       " ('ZIP_CODE', 'INTEGER ', 4)]"
      ]
     },
     "execution_count": 270,
     "metadata": {},
     "output_type": "execute_result"
    }
   ],
   "source": [
    "# type in your query to retrieve all column names in the SCHOOLS table along with their datatypes and length\n",
    "%sql select distinct(name), coltype, length from sysibm.syscolumns where tbname='SCHOOLS' \n",
    "#limit 3\n",
    " \n"
   ]
  },
  {
   "cell_type": "markdown",
   "metadata": {
    "tags": []
   },
   "source": []
  },
  {
   "cell_type": "markdown",
   "metadata": {
    "tags": []
   },
   "source": [
    "### Questions\n",
    "1.  Is the column name for the \"SCHOOL ID\" attribute in upper or mixed case?\n",
    "2.  What is the name of \"Community Area Name\" column in your table? Does it have spaces?\n",
    "3.  Are there any columns in whose names the spaces and paranthesis (round brackets) have been replaced by the underscore character \"\\_\"?"
   ]
  },
  {
   "cell_type": "code",
   "execution_count": 271,
   "metadata": {
    "tags": []
   },
   "outputs": [
    {
     "name": "stdout",
     "output_type": "stream",
     "text": [
      " * ibm_db_sa://wzw37676:***@55fbc997-9266-4331-afd3-888b05e734c0.bs2io90l08kqb1od8lcg.databases.appdomain.cloud:31929/bludb\n",
      "Done.\n"
     ]
    },
    {
     "data": {
      "text/html": [
       "<table>\n",
       "    <thead>\n",
       "        <tr>\n",
       "            <th>name</th>\n",
       "        </tr>\n",
       "    </thead>\n",
       "    <tbody>\n",
       "        <tr>\n",
       "            <td>CITY</td>\n",
       "        </tr>\n",
       "        <tr>\n",
       "            <td>COLLABORATIVE_NAME</td>\n",
       "        </tr>\n",
       "        <tr>\n",
       "            <td>COLLEGE_ELIGIBILITY__</td>\n",
       "        </tr>\n",
       "        <tr>\n",
       "            <td>COLLEGE_ENROLLMENT</td>\n",
       "        </tr>\n",
       "        <tr>\n",
       "            <td>COLLEGE_ENROLLMENT_RATE__</td>\n",
       "        </tr>\n",
       "        <tr>\n",
       "            <td>COMMUNITY_AREA_NAME</td>\n",
       "        </tr>\n",
       "        <tr>\n",
       "            <td>COMMUNITY_AREA_NUMBER</td>\n",
       "        </tr>\n",
       "        <tr>\n",
       "            <td>CPS_PERFORMANCE_POLICY_LEVEL</td>\n",
       "        </tr>\n",
       "        <tr>\n",
       "            <td>CPS_PERFORMANCE_POLICY_STATUS</td>\n",
       "        </tr>\n",
       "        <tr>\n",
       "            <td>SAFETY_ICON</td>\n",
       "        </tr>\n",
       "        <tr>\n",
       "            <td>SAFETY_SCORE</td>\n",
       "        </tr>\n",
       "        <tr>\n",
       "            <td>SCHOOL_ID</td>\n",
       "        </tr>\n",
       "        <tr>\n",
       "            <td>STATE</td>\n",
       "        </tr>\n",
       "        <tr>\n",
       "            <td>STREET_ADDRESS</td>\n",
       "        </tr>\n",
       "        <tr>\n",
       "            <td>STUDENTS_PASSING__ALGEBRA__</td>\n",
       "        </tr>\n",
       "        <tr>\n",
       "            <td>STUDENTS_TAKING__ALGEBRA__</td>\n",
       "        </tr>\n",
       "    </tbody>\n",
       "</table>"
      ],
      "text/plain": [
       "[('CITY',),\n",
       " ('COLLABORATIVE_NAME',),\n",
       " ('COLLEGE_ELIGIBILITY__',),\n",
       " ('COLLEGE_ENROLLMENT',),\n",
       " ('COLLEGE_ENROLLMENT_RATE__',),\n",
       " ('COMMUNITY_AREA_NAME',),\n",
       " ('COMMUNITY_AREA_NUMBER',),\n",
       " ('CPS_PERFORMANCE_POLICY_LEVEL',),\n",
       " ('CPS_PERFORMANCE_POLICY_STATUS',),\n",
       " ('SAFETY_ICON',),\n",
       " ('SAFETY_SCORE',),\n",
       " ('SCHOOL_ID',),\n",
       " ('STATE',),\n",
       " ('STREET_ADDRESS',),\n",
       " ('STUDENTS_PASSING__ALGEBRA__',),\n",
       " ('STUDENTS_TAKING__ALGEBRA__',)]"
      ]
     },
     "execution_count": 271,
     "metadata": {},
     "output_type": "execute_result"
    }
   ],
   "source": [
    " %sql select name from sysibm.syscolumns where tbname='SCHOOLS' and (name like 'S%' or (name like 'C%') or (name like '(%')) \n",
    "# %sql select name from sysibm.syscolumns where tbname='SCHOOLS' and (name like 'SCHOOL_ID') \n",
    "# %sql select name from sysibm.syscolumns where tbname='SCHOOLS' and (name like 'COMMUNITY_AREA_NAME') \n"
   ]
  },
  {
   "cell_type": "markdown",
   "metadata": {
    "tags": []
   },
   "source": [
    "## Problems\n",
    "\n",
    "### Problem 1\n",
    "\n",
    "##### How many Elementary Schools are in the dataset?\n"
   ]
  },
  {
   "cell_type": "code",
   "execution_count": 273,
   "metadata": {},
   "outputs": [
    {
     "name": "stdout",
     "output_type": "stream",
     "text": [
      " * ibm_db_sa://wzw37676:***@55fbc997-9266-4331-afd3-888b05e734c0.bs2io90l08kqb1od8lcg.databases.appdomain.cloud:31929/bludb\n",
      "Done.\n"
     ]
    },
    {
     "data": {
      "text/html": [
       "<table>\n",
       "    <thead>\n",
       "        <tr>\n",
       "            <th>1</th>\n",
       "        </tr>\n",
       "    </thead>\n",
       "    <tbody>\n",
       "        <tr>\n",
       "            <td>462</td>\n",
       "        </tr>\n",
       "    </tbody>\n",
       "</table>"
      ],
      "text/plain": [
       "[(462,)]"
      ]
     },
     "execution_count": 273,
     "metadata": {},
     "output_type": "execute_result"
    }
   ],
   "source": [
    "%sql select count(*) from schools where \"Elementary, Middle, or High School\"='ES'"
   ]
  },
  {
   "cell_type": "markdown",
   "metadata": {},
   "source": [
    "### Problem 2\n",
    "\n",
    "##### What is the highest Safety Score?"
   ]
  },
  {
   "cell_type": "code",
   "execution_count": 274,
   "metadata": {},
   "outputs": [
    {
     "name": "stdout",
     "output_type": "stream",
     "text": [
      " * ibm_db_sa://wzw37676:***@55fbc997-9266-4331-afd3-888b05e734c0.bs2io90l08kqb1od8lcg.databases.appdomain.cloud:31929/bludb\n",
      "Done.\n"
     ]
    },
    {
     "data": {
      "text/html": [
       "<table>\n",
       "    <thead>\n",
       "        <tr>\n",
       "            <th>max_safety_score</th>\n",
       "        </tr>\n",
       "    </thead>\n",
       "    <tbody>\n",
       "        <tr>\n",
       "            <td>99</td>\n",
       "        </tr>\n",
       "    </tbody>\n",
       "</table>"
      ],
      "text/plain": [
       "[(99,)]"
      ]
     },
     "execution_count": 274,
     "metadata": {},
     "output_type": "execute_result"
    }
   ],
   "source": [
    "%sql select max(safety_score) as max_safety_score from schools"
   ]
  },
  {
   "cell_type": "markdown",
   "metadata": {},
   "source": [
    "### Problem 3\n",
    "\n",
    "##### Which schools have highest Safety Score?\n"
   ]
  },
  {
   "cell_type": "code",
   "execution_count": 275,
   "metadata": {},
   "outputs": [
    {
     "name": "stdout",
     "output_type": "stream",
     "text": [
      " * ibm_db_sa://wzw37676:***@55fbc997-9266-4331-afd3-888b05e734c0.bs2io90l08kqb1od8lcg.databases.appdomain.cloud:31929/bludb\n",
      "(ibm_db_dbi.ProgrammingError) ibm_db_dbi::ProgrammingError: SQLNumResultCols failed: [IBM][CLI Driver][DB2/LINUXX8664] SQL0104N  An unexpected token \") # or\" was found following \"_score) from schools\".  Expected tokens may include:  \"<space>\".  SQLSTATE=42601 SQLCODE=-104\n",
      "[SQL: select name_of_school from schools where safety_score= (select max(safety_score) from schools) # or where safety_score=99]\n",
      "(Background on this error at: http://sqlalche.me/e/f405)\n"
     ]
    }
   ],
   "source": [
    "%sql select name_of_school from schools where safety_score= (select max(safety_score) from schools) # or where safety_score=99"
   ]
  },
  {
   "cell_type": "markdown",
   "metadata": {},
   "source": [
    "Double-click **here** for the solution.\n",
    "\n",
    "<!-- Solution:\n",
    "In the previous problem we found out that the highest Safety Score is 99, so we can use that as an input in the where clause:\n",
    "\n",
    "%sql select Name_of_School, Safety_Score from SCHOOLS where Safety_Score = 99\n",
    "\n",
    "or, a better way:\n",
    "\n",
    "%sql select Name_of_School, Safety_Score from SCHOOLS where \\\n",
    "  Safety_Score= (select MAX(Safety_Score) from SCHOOLS)\n",
    "\n",
    "\n",
    "Correct answer: several schools with with Safety Score of 99.\n",
    "-->\n"
   ]
  },
  {
   "cell_type": "markdown",
   "metadata": {},
   "source": [
    "### Problem 4\n",
    "\n",
    "##### What are the top 10 schools with the highest \"Average Student Attendance\"?\n"
   ]
  },
  {
   "cell_type": "code",
   "execution_count": 276,
   "metadata": {},
   "outputs": [
    {
     "name": "stdout",
     "output_type": "stream",
     "text": [
      " * ibm_db_sa://wzw37676:***@55fbc997-9266-4331-afd3-888b05e734c0.bs2io90l08kqb1od8lcg.databases.appdomain.cloud:31929/bludb\n",
      "Done.\n"
     ]
    },
    {
     "data": {
      "text/html": [
       "<table>\n",
       "    <thead>\n",
       "        <tr>\n",
       "            <th>name_of_school</th>\n",
       "            <th>average_student_attendance</th>\n",
       "        </tr>\n",
       "    </thead>\n",
       "    <tbody>\n",
       "        <tr>\n",
       "            <td>Velma F Thomas Early Childhood Center</td>\n",
       "            <td>None</td>\n",
       "        </tr>\n",
       "        <tr>\n",
       "            <td>John Charles Haines Elementary School</td>\n",
       "            <td>98.40%</td>\n",
       "        </tr>\n",
       "        <tr>\n",
       "            <td>James Ward Elementary School</td>\n",
       "            <td>97.80%</td>\n",
       "        </tr>\n",
       "        <tr>\n",
       "            <td>Edgar Allan Poe Elementary Classical School</td>\n",
       "            <td>97.60%</td>\n",
       "        </tr>\n",
       "        <tr>\n",
       "            <td>Rachel Carson Elementary School</td>\n",
       "            <td>97.60%</td>\n",
       "        </tr>\n",
       "        <tr>\n",
       "            <td>Orozco Fine Arts &amp; Sciences Elementary School</td>\n",
       "            <td>97.60%</td>\n",
       "        </tr>\n",
       "        <tr>\n",
       "            <td>Annie Keller Elementary Gifted Magnet School</td>\n",
       "            <td>97.50%</td>\n",
       "        </tr>\n",
       "        <tr>\n",
       "            <td>Andrew Jackson Elementary Language Academy</td>\n",
       "            <td>97.40%</td>\n",
       "        </tr>\n",
       "        <tr>\n",
       "            <td>Lenart Elementary Regional Gifted Center</td>\n",
       "            <td>97.40%</td>\n",
       "        </tr>\n",
       "        <tr>\n",
       "            <td>Disney II Magnet School</td>\n",
       "            <td>97.30%</td>\n",
       "        </tr>\n",
       "    </tbody>\n",
       "</table>"
      ],
      "text/plain": [
       "[('Velma F Thomas Early Childhood Center', None),\n",
       " ('John Charles Haines Elementary School', '98.40%'),\n",
       " ('James Ward Elementary School', '97.80%'),\n",
       " ('Edgar Allan Poe Elementary Classical School', '97.60%'),\n",
       " ('Rachel Carson Elementary School', '97.60%'),\n",
       " ('Orozco Fine Arts & Sciences Elementary School', '97.60%'),\n",
       " ('Annie Keller Elementary Gifted Magnet School', '97.50%'),\n",
       " ('Andrew Jackson Elementary Language Academy', '97.40%'),\n",
       " ('Lenart Elementary Regional Gifted Center', '97.40%'),\n",
       " ('Disney II Magnet School', '97.30%')]"
      ]
     },
     "execution_count": 276,
     "metadata": {},
     "output_type": "execute_result"
    }
   ],
   "source": [
    "%sql select name_of_school, average_student_attendance from schools order by average_student_attendance desc limit 10"
   ]
  },
  {
   "cell_type": "markdown",
   "metadata": {},
   "source": [
    "### Problem 5\n",
    "\n",
    "##### Retrieve the list of 5 Schools with the lowest Average Student Attendance sorted in ascending order based on attendance\n"
   ]
  },
  {
   "cell_type": "code",
   "execution_count": 277,
   "metadata": {},
   "outputs": [
    {
     "name": "stdout",
     "output_type": "stream",
     "text": [
      " * ibm_db_sa://wzw37676:***@55fbc997-9266-4331-afd3-888b05e734c0.bs2io90l08kqb1od8lcg.databases.appdomain.cloud:31929/bludb\n",
      "Done.\n"
     ]
    },
    {
     "data": {
      "text/html": [
       "<table>\n",
       "    <thead>\n",
       "        <tr>\n",
       "            <th>name_of_school</th>\n",
       "            <th>average_student_attendance</th>\n",
       "        </tr>\n",
       "    </thead>\n",
       "    <tbody>\n",
       "        <tr>\n",
       "            <td>Richard T Crane Technical Preparatory High School</td>\n",
       "            <td>57.90%</td>\n",
       "        </tr>\n",
       "        <tr>\n",
       "            <td>Barbara Vick Early Childhood &amp; Family Center</td>\n",
       "            <td>60.90%</td>\n",
       "        </tr>\n",
       "        <tr>\n",
       "            <td>Dyett High School</td>\n",
       "            <td>62.50%</td>\n",
       "        </tr>\n",
       "        <tr>\n",
       "            <td>Wendell Phillips Academy High School</td>\n",
       "            <td>63.00%</td>\n",
       "        </tr>\n",
       "        <tr>\n",
       "            <td>Orr Academy High School</td>\n",
       "            <td>66.30%</td>\n",
       "        </tr>\n",
       "    </tbody>\n",
       "</table>"
      ],
      "text/plain": [
       "[('Richard T Crane Technical Preparatory High School', '57.90%'),\n",
       " ('Barbara Vick Early Childhood & Family Center', '60.90%'),\n",
       " ('Dyett High School', '62.50%'),\n",
       " ('Wendell Phillips Academy High School', '63.00%'),\n",
       " ('Orr Academy High School', '66.30%')]"
      ]
     },
     "execution_count": 277,
     "metadata": {},
     "output_type": "execute_result"
    }
   ],
   "source": [
    "%sql select name_of_school, average_student_attendance from schools order by average_student_attendance FETCH FIRST 5 ROWS ONLY; # or limit 5"
   ]
  },
  {
   "cell_type": "markdown",
   "metadata": {},
   "source": [
    "### Problem 6\n",
    "\n",
    "##### Now remove the '%' sign from the above result set for Average Student Attendance column\n"
   ]
  },
  {
   "cell_type": "code",
   "execution_count": 278,
   "metadata": {},
   "outputs": [
    {
     "name": "stdout",
     "output_type": "stream",
     "text": [
      " * ibm_db_sa://wzw37676:***@55fbc997-9266-4331-afd3-888b05e734c0.bs2io90l08kqb1od8lcg.databases.appdomain.cloud:31929/bludb\n",
      "Done.\n"
     ]
    },
    {
     "data": {
      "text/html": [
       "<table>\n",
       "    <thead>\n",
       "        <tr>\n",
       "            <th>name_of_school</th>\n",
       "            <th>average</th>\n",
       "        </tr>\n",
       "    </thead>\n",
       "    <tbody>\n",
       "        <tr>\n",
       "            <td>Richard T Crane Technical Preparatory High School</td>\n",
       "            <td>57.90 </td>\n",
       "        </tr>\n",
       "        <tr>\n",
       "            <td>Barbara Vick Early Childhood &amp; Family Center</td>\n",
       "            <td>60.90 </td>\n",
       "        </tr>\n",
       "        <tr>\n",
       "            <td>Dyett High School</td>\n",
       "            <td>62.50 </td>\n",
       "        </tr>\n",
       "        <tr>\n",
       "            <td>Wendell Phillips Academy High School</td>\n",
       "            <td>63.00 </td>\n",
       "        </tr>\n",
       "        <tr>\n",
       "            <td>Orr Academy High School</td>\n",
       "            <td>66.30 </td>\n",
       "        </tr>\n",
       "    </tbody>\n",
       "</table>"
      ],
      "text/plain": [
       "[('Richard T Crane Technical Preparatory High School', '57.90 '),\n",
       " ('Barbara Vick Early Childhood & Family Center', '60.90 '),\n",
       " ('Dyett High School', '62.50 '),\n",
       " ('Wendell Phillips Academy High School', '63.00 '),\n",
       " ('Orr Academy High School', '66.30 ')]"
      ]
     },
     "execution_count": 278,
     "metadata": {},
     "output_type": "execute_result"
    }
   ],
   "source": [
    "%sql select name_of_school, replace(average_student_attendance,'%',' ') as average from schools order by average_student_attendance limit 5;"
   ]
  },
  {
   "cell_type": "markdown",
   "metadata": {},
   "source": [
    "### Problem 7\n",
    "\n",
    "##### Which Schools have Average Student Attendance lower than 70%?\n"
   ]
  },
  {
   "cell_type": "code",
   "execution_count": 279,
   "metadata": {},
   "outputs": [
    {
     "name": "stdout",
     "output_type": "stream",
     "text": [
      " * ibm_db_sa://wzw37676:***@55fbc997-9266-4331-afd3-888b05e734c0.bs2io90l08kqb1od8lcg.databases.appdomain.cloud:31929/bludb\n",
      "Done.\n"
     ]
    },
    {
     "data": {
      "text/html": [
       "<table>\n",
       "    <thead>\n",
       "        <tr>\n",
       "            <th>name_of_school</th>\n",
       "            <th>average_less_than_70</th>\n",
       "        </tr>\n",
       "    </thead>\n",
       "    <tbody>\n",
       "        <tr>\n",
       "            <td>Richard T Crane Technical Preparatory High School</td>\n",
       "            <td>57.90%</td>\n",
       "        </tr>\n",
       "        <tr>\n",
       "            <td>Barbara Vick Early Childhood &amp; Family Center</td>\n",
       "            <td>60.90%</td>\n",
       "        </tr>\n",
       "        <tr>\n",
       "            <td>Dyett High School</td>\n",
       "            <td>62.50%</td>\n",
       "        </tr>\n",
       "        <tr>\n",
       "            <td>Wendell Phillips Academy High School</td>\n",
       "            <td>63.00%</td>\n",
       "        </tr>\n",
       "        <tr>\n",
       "            <td>Orr Academy High School</td>\n",
       "            <td>66.30%</td>\n",
       "        </tr>\n",
       "        <tr>\n",
       "            <td>Manley Career Academy High School</td>\n",
       "            <td>66.80%</td>\n",
       "        </tr>\n",
       "        <tr>\n",
       "            <td>Chicago Vocational Career Academy High School</td>\n",
       "            <td>68.80%</td>\n",
       "        </tr>\n",
       "        <tr>\n",
       "            <td>Roberto Clemente Community Academy High School</td>\n",
       "            <td>69.60%</td>\n",
       "        </tr>\n",
       "    </tbody>\n",
       "</table>"
      ],
      "text/plain": [
       "[('Richard T Crane Technical Preparatory High School', '57.90%'),\n",
       " ('Barbara Vick Early Childhood & Family Center', '60.90%'),\n",
       " ('Dyett High School', '62.50%'),\n",
       " ('Wendell Phillips Academy High School', '63.00%'),\n",
       " ('Orr Academy High School', '66.30%'),\n",
       " ('Manley Career Academy High School', '66.80%'),\n",
       " ('Chicago Vocational Career Academy High School', '68.80%'),\n",
       " ('Roberto Clemente Community Academy High School', '69.60%')]"
      ]
     },
     "execution_count": 279,
     "metadata": {},
     "output_type": "execute_result"
    }
   ],
   "source": [
    "%%sql \n",
    "select name_of_school, average_student_attendance as average_less_than_70 \n",
    "from schools \n",
    "where decimal(replace(average_student_attendance,'%',' ') ) < 70   \n",
    "order by Average_Student_Attendance "
   ]
  },
  {
   "cell_type": "markdown",
   "metadata": {},
   "source": [
    "The datatype of the \"Average_Student_Attendance\" column is varchar.\n",
    "So you cannot use it as is in the where clause for a numeric comparison.\n",
    "First use the CAST() function to cast it as a DECIMAL or DOUBLE\n",
    "e.g. CAST(\"Column_Name\" as DOUBLE)\n",
    "or simply: DECIMAL(\"Column_Name\")"
   ]
  },
  {
   "cell_type": "markdown",
   "metadata": {},
   "source": [
    "### Problem 8\n",
    "\n",
    "##### Get the total College Enrollment for each Community Area\n"
   ]
  },
  {
   "cell_type": "code",
   "execution_count": 280,
   "metadata": {},
   "outputs": [
    {
     "name": "stdout",
     "output_type": "stream",
     "text": [
      " * ibm_db_sa://wzw37676:***@55fbc997-9266-4331-afd3-888b05e734c0.bs2io90l08kqb1od8lcg.databases.appdomain.cloud:31929/bludb\n",
      "Done.\n"
     ]
    },
    {
     "data": {
      "text/html": [
       "<table>\n",
       "    <thead>\n",
       "        <tr>\n",
       "            <th>community_area_name</th>\n",
       "            <th>total_enrollment</th>\n",
       "        </tr>\n",
       "    </thead>\n",
       "    <tbody>\n",
       "        <tr>\n",
       "            <td>ALBANY PARK</td>\n",
       "            <td>6864</td>\n",
       "        </tr>\n",
       "        <tr>\n",
       "            <td>ARCHER HEIGHTS</td>\n",
       "            <td>4823</td>\n",
       "        </tr>\n",
       "        <tr>\n",
       "            <td>ARMOUR SQUARE</td>\n",
       "            <td>1458</td>\n",
       "        </tr>\n",
       "        <tr>\n",
       "            <td>ASHBURN</td>\n",
       "            <td>6483</td>\n",
       "        </tr>\n",
       "        <tr>\n",
       "            <td>AUBURN GRESHAM</td>\n",
       "            <td>4175</td>\n",
       "        </tr>\n",
       "        <tr>\n",
       "            <td>AUSTIN</td>\n",
       "            <td>10933</td>\n",
       "        </tr>\n",
       "        <tr>\n",
       "            <td>AVALON PARK</td>\n",
       "            <td>1522</td>\n",
       "        </tr>\n",
       "        <tr>\n",
       "            <td>AVONDALE</td>\n",
       "            <td>3640</td>\n",
       "        </tr>\n",
       "        <tr>\n",
       "            <td>BELMONT CRAGIN</td>\n",
       "            <td>14386</td>\n",
       "        </tr>\n",
       "        <tr>\n",
       "            <td>BEVERLY</td>\n",
       "            <td>1636</td>\n",
       "        </tr>\n",
       "    </tbody>\n",
       "</table>"
      ],
      "text/plain": [
       "[('ALBANY PARK', 6864),\n",
       " ('ARCHER HEIGHTS', 4823),\n",
       " ('ARMOUR SQUARE', 1458),\n",
       " ('ASHBURN', 6483),\n",
       " ('AUBURN GRESHAM', 4175),\n",
       " ('AUSTIN', 10933),\n",
       " ('AVALON PARK', 1522),\n",
       " ('AVONDALE', 3640),\n",
       " ('BELMONT CRAGIN', 14386),\n",
       " ('BEVERLY', 1636)]"
      ]
     },
     "execution_count": 280,
     "metadata": {},
     "output_type": "execute_result"
    }
   ],
   "source": [
    "%sql select Community_Area_name, sum(College_Enrollment) as total_enrollment from schools group by Community_Area_name limit 10"
   ]
  },
  {
   "cell_type": "markdown",
   "metadata": {},
   "source": [
    "### Problem 9\n",
    "\n",
    "##### Get the 5 Community Areas with the least total College Enrollment  sorted in ascending order\n"
   ]
  },
  {
   "cell_type": "code",
   "execution_count": 281,
   "metadata": {},
   "outputs": [
    {
     "name": "stdout",
     "output_type": "stream",
     "text": [
      " * ibm_db_sa://wzw37676:***@55fbc997-9266-4331-afd3-888b05e734c0.bs2io90l08kqb1od8lcg.databases.appdomain.cloud:31929/bludb\n",
      "Done.\n"
     ]
    },
    {
     "data": {
      "text/html": [
       "<table>\n",
       "    <thead>\n",
       "        <tr>\n",
       "            <th>community_area_name</th>\n",
       "            <th>total_enrollment</th>\n",
       "        </tr>\n",
       "    </thead>\n",
       "    <tbody>\n",
       "        <tr>\n",
       "            <td>OAKLAND</td>\n",
       "            <td>140</td>\n",
       "        </tr>\n",
       "        <tr>\n",
       "            <td>FULLER PARK</td>\n",
       "            <td>531</td>\n",
       "        </tr>\n",
       "        <tr>\n",
       "            <td>BURNSIDE</td>\n",
       "            <td>549</td>\n",
       "        </tr>\n",
       "        <tr>\n",
       "            <td>OHARE</td>\n",
       "            <td>786</td>\n",
       "        </tr>\n",
       "        <tr>\n",
       "            <td>LOOP</td>\n",
       "            <td>871</td>\n",
       "        </tr>\n",
       "    </tbody>\n",
       "</table>"
      ],
      "text/plain": [
       "[('OAKLAND', 140),\n",
       " ('FULLER PARK', 531),\n",
       " ('BURNSIDE', 549),\n",
       " ('OHARE', 786),\n",
       " ('LOOP', 871)]"
      ]
     },
     "execution_count": 281,
     "metadata": {},
     "output_type": "execute_result"
    }
   ],
   "source": [
    "%sql select Community_Area_name, sum(College_Enrollment) as total_enrollment from schools group by Community_Area_name order by total_enrollment asc limit 5"
   ]
  },
  {
   "cell_type": "markdown",
   "metadata": {},
   "source": [
    "### Problem 10\n",
    "\n",
    "##### List 5 schools with lowest safety score.\n"
   ]
  },
  {
   "cell_type": "code",
   "execution_count": 282,
   "metadata": {},
   "outputs": [
    {
     "name": "stdout",
     "output_type": "stream",
     "text": [
      " * ibm_db_sa://wzw37676:***@55fbc997-9266-4331-afd3-888b05e734c0.bs2io90l08kqb1od8lcg.databases.appdomain.cloud:31929/bludb\n",
      "Done.\n"
     ]
    },
    {
     "data": {
      "text/html": [
       "<table>\n",
       "    <thead>\n",
       "        <tr>\n",
       "            <th>name_of_school</th>\n",
       "            <th>safety_score</th>\n",
       "        </tr>\n",
       "    </thead>\n",
       "    <tbody>\n",
       "        <tr>\n",
       "            <td>Edmond Burke Elementary School</td>\n",
       "            <td>1</td>\n",
       "        </tr>\n",
       "        <tr>\n",
       "            <td>Luke O&#x27;Toole Elementary School</td>\n",
       "            <td>5</td>\n",
       "        </tr>\n",
       "        <tr>\n",
       "            <td>George W Tilton Elementary School</td>\n",
       "            <td>6</td>\n",
       "        </tr>\n",
       "        <tr>\n",
       "            <td>Foster Park Elementary School</td>\n",
       "            <td>11</td>\n",
       "        </tr>\n",
       "        <tr>\n",
       "            <td>Emil G Hirsch Metropolitan High School</td>\n",
       "            <td>13</td>\n",
       "        </tr>\n",
       "    </tbody>\n",
       "</table>"
      ],
      "text/plain": [
       "[('Edmond Burke Elementary School', 1),\n",
       " (\"Luke O'Toole Elementary School\", 5),\n",
       " ('George W Tilton Elementary School', 6),\n",
       " ('Foster Park Elementary School', 11),\n",
       " ('Emil G Hirsch Metropolitan High School', 13)]"
      ]
     },
     "execution_count": 282,
     "metadata": {},
     "output_type": "execute_result"
    }
   ],
   "source": [
    "%sql select name_of_school, safety_score from schools order by safety_score fetch first 5 rows only"
   ]
  },
  {
   "cell_type": "markdown",
   "metadata": {},
   "source": [
    "### Problem 11\n",
    "\n",
    "##### Get the hardship index for the community area which has College Enrollment of 4368\n"
   ]
  },
  {
   "cell_type": "code",
   "execution_count": 283,
   "metadata": {},
   "outputs": [
    {
     "name": "stdout",
     "output_type": "stream",
     "text": [
      " * ibm_db_sa://wzw37676:***@55fbc997-9266-4331-afd3-888b05e734c0.bs2io90l08kqb1od8lcg.databases.appdomain.cloud:31929/bludb\n",
      "Done.\n"
     ]
    },
    {
     "data": {
      "text/html": [
       "<table>\n",
       "    <thead>\n",
       "        <tr>\n",
       "            <th>tabname</th>\n",
       "            <th>colname</th>\n",
       "        </tr>\n",
       "    </thead>\n",
       "    <tbody>\n",
       "        <tr>\n",
       "            <td>CHICAGO_SOCIOECONOMIC_DATA</td>\n",
       "            <td>HARDSHIP_INDEX</td>\n",
       "        </tr>\n",
       "    </tbody>\n",
       "</table>"
      ],
      "text/plain": [
       "[('CHICAGO_SOCIOECONOMIC_DATA', 'HARDSHIP_INDEX')]"
      ]
     },
     "execution_count": 283,
     "metadata": {},
     "output_type": "execute_result"
    }
   ],
   "source": [
    "%%sql\n",
    "select tabname, colname from syscat.columns where upper(colname) like '%HARDSHIP%'\n"
   ]
  },
  {
   "cell_type": "code",
   "execution_count": 284,
   "metadata": {},
   "outputs": [
    {
     "name": "stdout",
     "output_type": "stream",
     "text": [
      " * ibm_db_sa://wzw37676:***@55fbc997-9266-4331-afd3-888b05e734c0.bs2io90l08kqb1od8lcg.databases.appdomain.cloud:31929/bludb\n",
      "Done.\n"
     ]
    },
    {
     "data": {
      "text/html": [
       "<table>\n",
       "    <thead>\n",
       "        <tr>\n",
       "            <th>hardship_index</th>\n",
       "            <th>community_area_number</th>\n",
       "        </tr>\n",
       "    </thead>\n",
       "    <tbody>\n",
       "        <tr>\n",
       "            <td>6.0</td>\n",
       "            <td>5</td>\n",
       "        </tr>\n",
       "    </tbody>\n",
       "</table>"
      ],
      "text/plain": [
       "[(6.0, 5)]"
      ]
     },
     "execution_count": 284,
     "metadata": {},
     "output_type": "execute_result"
    }
   ],
   "source": [
    "%%sql\n",
    "select hardship_index, community_area_number \n",
    "from chicago_socioeconomic_data CSD, schools SCH \n",
    "where CSD.ca =SCH.community_area_number and (College_Enrollment= 4368)"
   ]
  },
  {
   "cell_type": "markdown",
   "metadata": {},
   "source": [
    "### Problem 12\n",
    "\n",
    "##### Get the hardship index for the community area which has the school with the  highest enrollment.\n"
   ]
  },
  {
   "cell_type": "code",
   "execution_count": 287,
   "metadata": {},
   "outputs": [
    {
     "name": "stdout",
     "output_type": "stream",
     "text": [
      " * ibm_db_sa://wzw37676:***@55fbc997-9266-4331-afd3-888b05e734c0.bs2io90l08kqb1od8lcg.databases.appdomain.cloud:31929/bludb\n",
      "Done.\n"
     ]
    },
    {
     "data": {
      "text/html": [
       "<table>\n",
       "    <thead>\n",
       "        <tr>\n",
       "            <th>hardship_index</th>\n",
       "            <th>community_area_number</th>\n",
       "        </tr>\n",
       "    </thead>\n",
       "    <tbody>\n",
       "        <tr>\n",
       "            <td>6.0</td>\n",
       "            <td>5</td>\n",
       "        </tr>\n",
       "    </tbody>\n",
       "</table>"
      ],
      "text/plain": [
       "[(6.0, 5)]"
      ]
     },
     "execution_count": 287,
     "metadata": {},
     "output_type": "execute_result"
    }
   ],
   "source": [
    "%%sql\n",
    "select hardship_index, community_area_number \n",
    "from chicago_socioeconomic_data CSD, schools SCH \n",
    "where CSD.ca =SCH.community_area_number and College_Enrollment= (select max(College_Enrollment) from schools)"
   ]
  },
  {
   "cell_type": "markdown",
   "metadata": {},
   "source": [
    "## Summary\n",
    "\n",
    "##### In this lab you learned how to work with a real word dataset using SQL and Python. You learned how to query columns with spaces or special characters in their names and with mixed case names. You also used built in database functions and practiced how to sort, limit, and order result sets, as well as used sub-queries and worked with multiple tables.\n"
   ]
  },
  {
   "cell_type": "markdown",
   "metadata": {},
   "source": [
    "## Author\n",
    "\n",
    "<a href=\"https://www.linkedin.com/in/ravahuja/?utm_medium=Exinfluencer&utm_source=Exinfluencer&utm_content=000026UJ&utm_term=10006555&utm_id=NA-SkillsNetwork-Channel-SkillsNetworkCoursesIBMDeveloperSkillsNetworkDB0201ENSkillsNetwork20127838-2021-01-01\" target=\"_blank\">Rav Ahuja</a>\n",
    "\n",
    "## Change Log\n",
    "\n",
    "| Date (YYYY-MM-DD) | Version | Changed By        | Change Description                        |\n",
    "| ----------------- | ------- | ----------------- | ----------------------------------------- |\n",
    "| 2021-07-09        | 2.4     | Malika            | Updated connection string                 |\n",
    "| 2021-05-19        | 2.3     | Lakshmi Holla     | Updated question                          |\n",
    "| 2021-04-20        | 2.2     | Malika            | Added the libraries                       |\n",
    "| 2020-11-27        | 2.1     | Sannareddy Ramesh | Modified data sets and added new problems |\n",
    "| 2020-08-28        | 2.0     | Lavanya           | Moved lab to course repo in GitLab        |\n",
    "\n",
    "<hr>\n",
    "\n",
    "## <h3 align=\"center\"> © IBM Corporation 2020. All rights reserved. <h3/>\n"
   ]
  }
 ],
 "metadata": {
  "celltoolbar": "Raw Cell Format",
  "kernelspec": {
   "display_name": "Python",
   "language": "python",
   "name": "conda-env-python-py"
  },
  "language_info": {
   "codemirror_mode": {
    "name": "ipython",
    "version": 3
   },
   "file_extension": ".py",
   "mimetype": "text/x-python",
   "name": "python",
   "nbconvert_exporter": "python",
   "pygments_lexer": "ipython3",
   "version": "3.7.12"
  },
  "widgets": {
   "state": {},
   "version": "1.1.2"
  }
 },
 "nbformat": 4,
 "nbformat_minor": 4
}
